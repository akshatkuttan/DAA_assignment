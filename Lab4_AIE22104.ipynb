{
 "cells": [
  {
   "cell_type": "markdown",
   "id": "3d39dd5f",
   "metadata": {},
   "source": [
    "# Lab4 "
   ]
  },
  {
   "cell_type": "raw",
   "id": "b763bf48",
   "metadata": {},
   "source": [
    "Q1"
   ]
  },
  {
   "cell_type": "code",
   "execution_count": 4,
   "id": "23f12ead",
   "metadata": {},
   "outputs": [
    {
     "name": "stdout",
     "output_type": "stream",
     "text": [
      "Selected Items:\n",
      "Benefit: 60, Weight: 10, Fraction: 1\n",
      "Benefit: 100, Weight: 20, Fraction: 1\n",
      "Benefit: 120, Weight: 30, Fraction: 0.6666666666666666\n",
      "Total Benefit: 240.0\n"
     ]
    }
   ],
   "source": [
    "class Item:\n",
    "    def __init__(self, benefit, weight):\n",
    "        self.benefit = benefit\n",
    "        self.weight = weight\n",
    "        self.ratio = benefit / weight\n",
    "\n",
    "def fractional_knapsack(items, capacity):\n",
    "    # Sort items based on benefit-to-weight ratio in non-increasing order\n",
    "    sorted_items = sorted(items, key=lambda x: x.ratio, reverse=True)\n",
    "    \n",
    "    total_benefit = 0\n",
    "    knapsack = []\n",
    "\n",
    "    for item in sorted_items:\n",
    "        if capacity >= item.weight:\n",
    "            # If the item can be fully added to the knapsack\n",
    "            knapsack.append((item, 1))\n",
    "            total_benefit += item.benefit\n",
    "            capacity -= item.weight\n",
    "        else:\n",
    "            # If the item cannot be fully added, add a fraction of it\n",
    "            fraction = capacity / item.weight\n",
    "            knapsack.append((item, fraction))\n",
    "            total_benefit += item.benefit * fraction\n",
    "            capacity = 0\n",
    "            break\n",
    "    \n",
    "    return knapsack, total_benefit\n",
    "\n",
    "# Example usage\n",
    "items = [Item(60, 10), Item(100, 20), Item(120, 30)]\n",
    "capacity = 50\n",
    "\n",
    "selected_items, total_benefit = fractional_knapsack(items, capacity)\n",
    "\n",
    "print(\"Selected Items:\")\n",
    "for item, fraction in selected_items:\n",
    "    print(f\"Benefit: {item.benefit}, Weight: {item.weight}, Fraction: {fraction}\")\n",
    "\n",
    "print(\"Total Benefit:\", total_benefit)\n"
   ]
  },
  {
   "cell_type": "markdown",
   "id": "43e55b7d",
   "metadata": {},
   "source": [
    "Q2"
   ]
  },
  {
   "cell_type": "code",
   "execution_count": 2,
   "id": "64cafec1",
   "metadata": {},
   "outputs": [
    {
     "name": "stdout",
     "output_type": "stream",
     "text": [
      "Maximum sum: 40\n"
     ]
    }
   ],
   "source": [
    "def maximize_sum(arr):\n",
    "    # Sort the array in non-decreasing order\n",
    "    arr.sort()\n",
    "\n",
    "    # Calculate the sum of products\n",
    "    total_sum = sum(arr[i] * i for i in range(len(arr)))\n",
    "    \n",
    "    return total_sum\n",
    "\n",
    "# Example usage\n",
    "arr = [2, 5, 3, 4, 0]\n",
    "maximized_sum = maximize_sum(arr)\n",
    "print(\"Maximum sum:\", maximized_sum)\n"
   ]
  },
  {
   "cell_type": "markdown",
   "id": "493d5b90",
   "metadata": {},
   "source": [
    "Q3"
   ]
  },
  {
   "cell_type": "code",
   "execution_count": 5,
   "id": "e8e83d61",
   "metadata": {},
   "outputs": [
    {
     "name": "stdout",
     "output_type": "stream",
     "text": [
      "Minimum sum of products: 104\n"
     ]
    }
   ],
   "source": [
    "def minimize_product_sum(array_one, array_two):\n",
    "    # Sort both arrays\n",
    "    array_one.sort()\n",
    "    array_two.sort(reverse=True)\n",
    "\n",
    "    # Calculate the sum of products\n",
    "    total_sum = sum(array_one[i] * array_two[i] for i in range(len(array_one)))\n",
    "\n",
    "    return total_sum\n",
    "\n",
    "# Example usage\n",
    "array_one = [7, 5, 1, 4]\n",
    "array_two = [6, 17, 9, 3]\n",
    "minimized_sum = minimize_product_sum(array_one, array_two)\n",
    "print(\"Minimum sum of products:\", minimized_sum)\n"
   ]
  }
 ],
 "metadata": {
  "kernelspec": {
   "display_name": "Python 3 (ipykernel)",
   "language": "python",
   "name": "python3"
  },
  "language_info": {
   "codemirror_mode": {
    "name": "ipython",
    "version": 3
   },
   "file_extension": ".py",
   "mimetype": "text/x-python",
   "name": "python",
   "nbconvert_exporter": "python",
   "pygments_lexer": "ipython3",
   "version": "3.11.5"
  }
 },
 "nbformat": 4,
 "nbformat_minor": 5
}
