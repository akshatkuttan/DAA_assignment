{
 "cells": [
  {
   "cell_type": "markdown",
   "id": "3c9e0113",
   "metadata": {},
   "source": [
    "# Lab1 part3"
   ]
  },
  {
   "cell_type": "markdown",
   "id": "7537ebac",
   "metadata": {},
   "source": [
    "Q1"
   ]
  },
  {
   "cell_type": "code",
   "execution_count": 1,
   "id": "b8c26c01",
   "metadata": {},
   "outputs": [
    {
     "name": "stdout",
     "output_type": "stream",
     "text": [
      "Pair with sum 10 found: (2, 8)\n"
     ]
    }
   ],
   "source": [
    "def find_pair_with_sum(nums, target):\n",
    "    num_set = set()\n",
    "    for num in nums:\n",
    "        complement = target - num\n",
    "        if complement in num_set:\n",
    "            return num, complement\n",
    "        num_set.add(num)\n",
    "    return None  \n",
    "\n",
    "arr = [8, 7, 2, 5, 3, 1]\n",
    "target_sum = 10\n",
    "pair = find_pair_with_sum(arr, target_sum)\n",
    "if pair:\n",
    "    print(f\"Pair with sum {target_sum} found:\", pair)\n",
    "else:\n",
    "    print(\"No pair found with the given sum.\")"
   ]
  },
  {
   "cell_type": "markdown",
   "id": "35907afa",
   "metadata": {},
   "source": [
    "Q2\n"
   ]
  },
  {
   "cell_type": "code",
   "execution_count": 2,
   "id": "d5fadd1a",
   "metadata": {},
   "outputs": [
    {
     "name": "stdout",
     "output_type": "stream",
     "text": [
      "Maximum product of a pair: 72\n"
     ]
    }
   ],
   "source": [
    "def max_pair_product(nums):\n",
    "    nums.sort()\n",
    "    n = len(nums)\n",
    "    max_product = max(nums[0] * nums[1], nums[n-1] * nums[n-2])\n",
    "    return max_product\n",
    "\n",
    "arr = [1, 7, 4, 2, 8, 6, 3, 9, 5]\n",
    "max_prod = max_pair_product(arr)\n",
    "print(\"Maximum product of a pair:\", max_prod)"
   ]
  },
  {
   "cell_type": "markdown",
   "id": "5899d454",
   "metadata": {},
   "source": [
    "Q3"
   ]
  },
  {
   "cell_type": "code",
   "execution_count": 3,
   "id": "1e958bbb",
   "metadata": {},
   "outputs": [
    {
     "name": "stdout",
     "output_type": "stream",
     "text": [
      "Sorted array: [1, 2, 3, 4, 5]\n"
     ]
    }
   ],
   "source": [
    "def find_swapped_elements(nums):\n",
    "    first_swapped = None\n",
    "    second_swapped = None\n",
    "    for i in range(len(nums) - 1):\n",
    "        if nums[i] > nums[i + 1]:\n",
    "            first_swapped = i\n",
    "            break\n",
    "    for i in range(len(nums) - 1, 0, -1):\n",
    "        if nums[i] < nums[i - 1]:\n",
    "            second_swapped = i\n",
    "            break\n",
    "\n",
    "    return first_swapped, second_swapped\n",
    "\n",
    "def sort_array(nums):\n",
    "    first_swapped, second_swapped = find_swapped_elements(nums)\n",
    "    if first_swapped is None:\n",
    "        return nums\n",
    "    temp=nums[first_swapped]\n",
    "    nums[first_swapped]=nums[second_swapped]\n",
    "    nums[second_swapped]=temp\n",
    "    return nums\n",
    "\n",
    "arr = [1, 4, 3, 2, 5]\n",
    "sorted_arr = sort_array(arr)\n",
    "print(\"Sorted array:\", sorted_arr)"
   ]
  },
  {
   "cell_type": "markdown",
   "id": "53319917",
   "metadata": {},
   "source": [
    "Q4"
   ]
  },
  {
   "cell_type": "code",
   "execution_count": 4,
   "id": "b94c0ad0",
   "metadata": {},
   "outputs": [
    {
     "name": "stdout",
     "output_type": "stream",
     "text": [
      "Segregated array: [0, 0, 0, 0, 0, 1, 1, 1, 1, 1]\n"
     ]
    }
   ],
   "source": [
    "def segregate_zeros_and_ones(nums):\n",
    "    left = 0\n",
    "    right = len(nums) - 1\n",
    "    while left<right:\n",
    "        if nums[left]==1:\n",
    "            temp=nums[left]\n",
    "            nums[left]=nums[right]\n",
    "            nums[right]=temp\n",
    "            right-=1\n",
    "        else:\n",
    "            left+=1\n",
    "arr = [0, 1, 0, 1, 0, 0, 1, 1, 1, 0]\n",
    "segregate_zeros_and_ones(arr)\n",
    "print(\"Segregated array:\", arr)"
   ]
  },
  {
   "cell_type": "markdown",
   "id": "e1712b37",
   "metadata": {},
   "source": [
    "Q5"
   ]
  },
  {
   "cell_type": "code",
   "execution_count": 5,
   "id": "a8303e26",
   "metadata": {},
   "outputs": [
    {
     "name": "stdout",
     "output_type": "stream",
     "text": [
      "The possible inversions are: [(10, 1), (10, 2), (10, 4), (10, 9), (10, 5), (13, 9), (13, 5), (9, 5)]\n",
      "No. of possible inversions are:  8\n"
     ]
    }
   ],
   "source": [
    "def inversions(arr, n):\n",
    "    inv_list=[]\n",
    "    for i in range(n):\n",
    "        for j in range(i + 1, n):\n",
    "            if arr[i] > arr[j]:\n",
    "                a=(arr[i],arr[j])\n",
    "                inv_list.append(a)\n",
    "    return inv_list\n",
    "\n",
    "arr = [10,1,2,4,13,9,5]\n",
    "n = len(arr)\n",
    "inversion_list= inversions(arr, n)\n",
    "print(\"The possible inversions are:\",inversion_list)\n",
    "print(\"No. of possible inversions are: \",len(inversion_list))"
   ]
  },
  {
   "cell_type": "markdown",
   "id": "d29bec1a",
   "metadata": {},
   "source": [
    "Q6\n",
    "O[n^2]algo"
   ]
  },
  {
   "cell_type": "code",
   "execution_count": 6,
   "id": "a9d93f01",
   "metadata": {},
   "outputs": [
    {
     "name": "stdout",
     "output_type": "stream",
     "text": [
      "Is there a pair with sum 10 : True\n"
     ]
    }
   ],
   "source": [
    "def two_sum_n_squared(arr, K):\n",
    "    n = len(arr)\n",
    "    for i in range(n):\n",
    "        for j in range(i + 1, n):\n",
    "            if arr[i] + arr[j] == K:\n",
    "                return True\n",
    "    return False\n",
    "\n",
    "arr = [8, 4, 1, 6]\n",
    "K = 10\n",
    "print(\"Is there a pair with sum\", K, \":\", two_sum_n_squared(arr, K))"
   ]
  },
  {
   "cell_type": "markdown",
   "id": "7fda7fa3",
   "metadata": {},
   "source": [
    "O(nlogn)\n"
   ]
  },
  {
   "cell_type": "code",
   "execution_count": 8,
   "id": "90672999",
   "metadata": {},
   "outputs": [
    {
     "name": "stdout",
     "output_type": "stream",
     "text": [
      "Is there a pair with sum 10 : True\n"
     ]
    }
   ],
   "source": [
    "def two_sum_nlogn(arr, K):\n",
    "    arr.sort()\n",
    "    left = 0\n",
    "    right = len(arr) - 1\n",
    "    while left < right:\n",
    "        if arr[left] + arr[right] == K:\n",
    "            return True\n",
    "        elif arr[left] + arr[right] < K:\n",
    "            left += 1\n",
    "        else:\n",
    "            right -= 1\n",
    "    \n",
    "    return False\n",
    "\n",
    "arr = [8, 4, 1, 6]\n",
    "K = 10\n",
    "print(\"Is there a pair with sum\", K, \":\", two_sum_nlogn(arr, K))"
   ]
  },
  {
   "cell_type": "code",
   "execution_count": null,
   "id": "2258777b",
   "metadata": {},
   "outputs": [],
   "source": []
  }
 ],
 "metadata": {
  "kernelspec": {
   "display_name": "Python 3 (ipykernel)",
   "language": "python",
   "name": "python3"
  },
  "language_info": {
   "codemirror_mode": {
    "name": "ipython",
    "version": 3
   },
   "file_extension": ".py",
   "mimetype": "text/x-python",
   "name": "python",
   "nbconvert_exporter": "python",
   "pygments_lexer": "ipython3",
   "version": "3.11.5"
  }
 },
 "nbformat": 4,
 "nbformat_minor": 5
}
