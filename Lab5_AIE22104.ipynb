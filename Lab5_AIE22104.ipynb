{
 "cells": [
  {
   "cell_type": "markdown",
   "id": "3bd73c0f",
   "metadata": {},
   "source": [
    "# Lab5"
   ]
  },
  {
   "cell_type": "code",
   "execution_count": 1,
   "id": "28e23242",
   "metadata": {},
   "outputs": [
    {
     "name": "stdout",
     "output_type": "stream",
     "text": [
      "4\n",
      "19\n",
      "12\n"
     ]
    }
   ],
   "source": [
    "def candies(n, arr):\n",
    "    # Initialize candies array with all elements set to 1\n",
    "    candies = [1] * n\n",
    "\n",
    "    # Assign candies from left to right\n",
    "    for i in range(1, n):\n",
    "        if arr[i] > arr[i - 1]:\n",
    "            candies[i] = candies[i - 1] + 1\n",
    "\n",
    "    # Assign candies from right to left\n",
    "    for i in range(n - 2, -1, -1):\n",
    "        if arr[i] > arr[i + 1]:\n",
    "            candies[i] = max(candies[i], candies[i + 1] + 1)\n",
    "\n",
    "    # Return the total number of candies\n",
    "    return sum(candies)\n",
    "\n",
    "# Example usage\n",
    "n = 3\n",
    "arr = [1, 2, 2]\n",
    "print(candies(n, arr))  # Output: 4\n",
    "\n",
    "n = 10\n",
    "arr = [2, 4, 2, 6, 1, 7, 8, 9, 2, 1]\n",
    "print(candies(n, arr))  # Output: 19\n",
    "\n",
    "n = 8\n",
    "arr = [2, 4, 3, 5, 2, 6, 4, 5]\n",
    "print(candies(n, arr))  # Output: 12\n"
   ]
  },
  {
   "cell_type": "code",
   "execution_count": 2,
   "id": "be67e136",
   "metadata": {},
   "outputs": [
    {
     "name": "stdout",
     "output_type": "stream",
     "text": [
      "100\n"
     ]
    }
   ],
   "source": [
    "def maximumPeople(towns_populations, towns_locations, clouds_locations, clouds_ranges):\n",
    "    total_population = sum(towns_populations)\n",
    "\n",
    "    max_people_sunny_town = 0\n",
    "\n",
    "    for i in range(len(clouds_locations)):\n",
    "        cloud_location = clouds_locations[i]\n",
    "        cloud_range = clouds_ranges[i]\n",
    "\n",
    "        people_covered = 0\n",
    "        for j in range(len(towns_locations)):\n",
    "            town_location = towns_locations[j]\n",
    "            town_population = towns_populations[j]\n",
    "\n",
    "            if abs(town_location - cloud_location) <= cloud_range:\n",
    "                people_covered += town_population\n",
    "\n",
    "        max_people_sunny_town = max(max_people_sunny_town, total_population - people_covered)\n",
    "\n",
    "    return max_people_sunny_town\n",
    "\n",
    "# Example usage\n",
    "towns_populations = [10, 100]\n",
    "towns_locations = [5, 100]\n",
    "clouds_locations = [4]\n",
    "clouds_ranges = [1]\n",
    "\n",
    "print(maximumPeople(towns_populations, towns_locations, clouds_locations, clouds_ranges))  # Output: 110\n"
   ]
  },
  {
   "cell_type": "code",
   "execution_count": 3,
   "id": "13c03acc",
   "metadata": {},
   "outputs": [
    {
     "name": "stdout",
     "output_type": "stream",
     "text": [
      "2\n"
     ]
    }
   ],
   "source": [
    "def pylons(k, arr):\n",
    "    n = len(arr)\n",
    "    plants = 0\n",
    "    i = 0\n",
    "\n",
    "    while i < n:\n",
    "        found = False\n",
    "        for j in range(min(i + k, n - 1), i - 1, -1):\n",
    "            if arr[j] == 1:\n",
    "                plants += 1\n",
    "                i = j + k\n",
    "                found = True\n",
    "                break\n",
    "        \n",
    "        if not found:\n",
    "            if i == 0:\n",
    "                return -1\n",
    "            plants += 1\n",
    "            i -= k\n",
    "\n",
    "    if i < n:\n",
    "        return -1\n",
    "    return plants\n",
    "\n",
    "# Example usage\n",
    "k = 2\n",
    "arr = [0, 1, 1, 1, 1, 0]\n",
    "print(pylons(k, arr))  # Output: 2\n"
   ]
  },
  {
   "cell_type": "code",
   "execution_count": null,
   "id": "fad7b22e",
   "metadata": {},
   "outputs": [],
   "source": []
  }
 ],
 "metadata": {
  "kernelspec": {
   "display_name": "Python 3 (ipykernel)",
   "language": "python",
   "name": "python3"
  },
  "language_info": {
   "codemirror_mode": {
    "name": "ipython",
    "version": 3
   },
   "file_extension": ".py",
   "mimetype": "text/x-python",
   "name": "python",
   "nbconvert_exporter": "python",
   "pygments_lexer": "ipython3",
   "version": "3.11.5"
  }
 },
 "nbformat": 4,
 "nbformat_minor": 5
}
